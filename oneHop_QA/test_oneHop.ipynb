{
 "cells": [
  {
   "cell_type": "code",
   "execution_count": null,
   "metadata": {
    "collapsed": true
   },
   "outputs": [],
   "source": [
    "import spacy\n",
    "import pandas as pd\n",
    "import os\n",
    "from params.configures import Config_path, Config_output_path"
   ]
  },
  {
   "cell_type": "code",
   "execution_count": null,
   "outputs": [],
   "source": [
    "## locate parent directory\n",
    "# It suggest to train models on Google Colab GPU (connect to your own google drive)\n",
    "config = Config_path()\n",
    "os.chdir(config.parent_path)\n"
   ],
   "metadata": {
    "collapsed": false,
    "pycharm": {
     "name": "#%%\n"
    }
   }
  },
  {
   "cell_type": "code",
   "execution_count": null,
   "outputs": [],
   "source": [
    "#########################\n",
    "## Load trained models ##\n",
    "#########################\n",
    "NER = spacy.load(\"./oneHop_QA/NER_output_train-dev/model-best\") #load the best model\n",
    "CATS = spacy.load(\"./oneHop_QA/cat_output_train-train_268_0719/model-best\") #load the best model"
   ],
   "metadata": {
    "collapsed": false,
    "pycharm": {
     "name": "#%%\n"
    }
   }
  },
  {
   "cell_type": "code",
   "execution_count": null,
   "outputs": [],
   "source": [
    "question = \"which genre of album is harder faster\"\n",
    "doc = NER(question) # input sample text\n",
    "print(doc.ents[0])\n",
    "spacy.displacy.render(doc, style=\"ent\", jupyter=True) # display in Jupyter Notebook/Colab"
   ],
   "metadata": {
    "collapsed": false,
    "pycharm": {
     "name": "#%%\n"
    }
   }
  },
  {
   "cell_type": "code",
   "execution_count": null,
   "outputs": [],
   "source": [
    "#####################\n",
    "## Display Metrics ##\n",
    "#####################\n",
    "from oneHop_QA.metrics import test_pipe,mask_doc,NER_metrics\n",
    "predict_cats = test_pipe(question,NER,CATS)\n",
    "print('relation prediction:',predict_cats)"
   ],
   "metadata": {
    "collapsed": false,
    "pycharm": {
     "name": "#%%\n"
    }
   }
  },
  {
   "cell_type": "code",
   "execution_count": null,
   "outputs": [],
   "source": [
    "c = Config_path()\n",
    "test = pd.read_csv(c.test_combination_path)\n",
    "test_q = test['question'].values\n",
    "test_ents = test['entity'].values\n",
    "precision, recall, f1= NER_metrics(test_q[0:1000],test_ents[0:1000],NER)\n",
    "print('Named Entity Metrics',precision, recall, f1)"
   ],
   "metadata": {
    "collapsed": false,
    "pycharm": {
     "name": "#%%\n"
    }
   }
  },
  {
   "cell_type": "code",
   "execution_count": null,
   "outputs": [],
   "source": [
    "from sklearn.metrics import f1_score\n",
    "\n",
    "test_q_space = test['q_space'].values\n",
    "test_r = test['relationship'].values\n",
    "test_r = [i.rsplit('/', 2)[0:-2] for i in test_r]\n",
    "\n",
    "redict_r = []\n",
    "for i in test_q_space[0:1000]:\n",
    "  doc_cats = CATS(i)\n",
    "  pedict_relation = max(doc_cats.cats, key=doc_cats.cats.get)\n",
    "  redict_r.append(pedict_relation)"
   ],
   "metadata": {
    "collapsed": false,
    "pycharm": {
     "name": "#%%\n"
    }
   }
  },
  {
   "cell_type": "code",
   "execution_count": null,
   "outputs": [],
   "source": [
    "f1_CATS = f1_score(test_r[0:1000], redict_r, average='weighted')\n",
    "print('relation prediction f1 score:',f1_CATS)"
   ],
   "metadata": {
    "collapsed": false,
    "pycharm": {
     "name": "#%%\n"
    }
   }
  }
 ],
 "metadata": {
  "kernelspec": {
   "display_name": "Python 3",
   "language": "python",
   "name": "python3"
  },
  "language_info": {
   "codemirror_mode": {
    "name": "ipython",
    "version": 2
   },
   "file_extension": ".py",
   "mimetype": "text/x-python",
   "name": "python",
   "nbconvert_exporter": "python",
   "pygments_lexer": "ipython2",
   "version": "2.7.6"
  }
 },
 "nbformat": 4,
 "nbformat_minor": 0
}