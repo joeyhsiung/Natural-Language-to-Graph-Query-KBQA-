{
 "cells": [
  {
   "cell_type": "code",
   "source": [
    "# from google.colab import drive\n",
    "# drive.mount('/content/drive')"
   ],
   "metadata": {
    "id": "wBLgVYjod844",
    "colab": {
     "base_uri": "https://localhost:8080/"
    },
    "executionInfo": {
     "status": "ok",
     "timestamp": 1639798244502,
     "user_tz": 0,
     "elapsed": 1589,
     "user": {
      "displayName": "Junru Xiong",
      "photoUrl": "https://lh3.googleusercontent.com/a/default-user=s64",
      "userId": "11937729412195615970"
     }
    },
    "outputId": "fc1d01bc-3a4e-47fe-e46d-a6d319af3396"
   },
   "execution_count": 12,
   "outputs": [
    {
     "output_type": "stream",
     "name": "stdout",
     "text": [
      "Drive already mounted at /content/drive; to attempt to forcibly remount, call drive.mount(\"/content/drive\", force_remount=True).\n"
     ]
    }
   ]
  },
  {
   "cell_type": "code",
   "source": [
    "# import os\n",
    "# # locate current file(colab) folder: you can change to your own path\n",
    "# import sys\n",
    "# os.chdir('/content/drive/My Drive/RR-project/NL2GraphQuery-workplace/code/NLtoGQ/')\n",
    "# !pwd"
   ],
   "metadata": {
    "colab": {
     "base_uri": "https://localhost:8080/"
    },
    "id": "XgwXwjsMkkZR",
    "executionInfo": {
     "status": "ok",
     "timestamp": 1639798245998,
     "user_tz": 0,
     "elapsed": 302,
     "user": {
      "displayName": "Junru Xiong",
      "photoUrl": "https://lh3.googleusercontent.com/a/default-user=s64",
      "userId": "11937729412195615970"
     }
    },
    "outputId": "2028049c-843b-44f8-ab46-5323eb7f71b5"
   },
   "execution_count": 13,
   "outputs": [
    {
     "output_type": "stream",
     "name": "stdout",
     "text": [
      "/content/drive/My Drive/RR-project/NL2GraphQuery-workplace/code/NLtoGQ\n"
     ]
    }
   ]
  },
  {
   "cell_type": "code",
   "execution_count": 7,
   "metadata": {
    "collapsed": true,
    "id": "CfFROLzfdabo",
    "executionInfo": {
     "status": "ok",
     "timestamp": 1639798285226,
     "user_tz": 0,
     "elapsed": 261,
     "user": {
      "displayName": "Junru Xiong",
      "photoUrl": "https://lh3.googleusercontent.com/a/default-user=s64",
      "userId": "11937729412195615970"
     }
    }
   },
   "outputs": [],
   "source": [
    "import spacy\n",
    "import pandas as pd\n",
    "import os\n",
    "import params\n",
    "from params.configures import Config_path, Config_output_path"
   ]
  },
  {
   "cell_type": "code",
   "execution_count": 8,
   "outputs": [],
   "source": [
    "## locate parent directory\n",
    "# It suggest to train models on Google Colab GPU (connect to your own google drive)\n",
    "config = Config_path()\n",
    "os.chdir(config.parent_path)"
   ],
   "metadata": {
    "pycharm": {
     "name": "#%%\n"
    },
    "id": "MtIG7GGTdabt",
    "colab": {
     "base_uri": "https://localhost:8080/",
     "height": 218
    },
    "executionInfo": {
     "status": "error",
     "timestamp": 1639798301859,
     "user_tz": 0,
     "elapsed": 187,
     "user": {
      "displayName": "Junru Xiong",
      "photoUrl": "https://lh3.googleusercontent.com/a/default-user=s64",
      "userId": "11937729412195615970"
     }
    },
    "outputId": "dea3e618-32a1-4d61-cc7b-d75b107defba"
   }
  },
  {
   "cell_type": "code",
   "execution_count": 10,
   "outputs": [
    {
     "name": "stderr",
     "output_type": "stream",
     "text": [
      "C:\\Users\\junru\\anaconda3\\envs\\NL2GraphQuery\\lib\\site-packages\\spacy\\util.py:730: UserWarning: [W095] Model 'en_pipeline' (0.0.0) was trained with spaCy v3.1 and may not be 100% compatible with the current version (3.1.0). If you see errors or degraded performance, download a newer compatible model or retrain your custom model with the current spaCy version. For more details and available updates, run: python -m spacy validate\n",
      "  warnings.warn(warn_msg)\n"
     ]
    }
   ],
   "source": [
    "#########################\n",
    "## Load trained models ##\n",
    "#########################\n",
    "NER = spacy.load(\"./oneHop_QA/NER_output_train-dev/model-best\") #load the best model\n",
    "CATS = spacy.load(\"./oneHop_QA/cat_output_train-train_268_0719/model-best\") #load the best model"
   ],
   "metadata": {
    "pycharm": {
     "name": "#%%\n"
    },
    "id": "XqBIj-3ldabu"
   }
  },
  {
   "cell_type": "code",
   "execution_count": 11,
   "outputs": [
    {
     "name": "stdout",
     "output_type": "stream",
     "text": [
      "harder faster\n"
     ]
    },
    {
     "data": {
      "text/plain": "<IPython.core.display.HTML object>",
      "text/html": "<span class=\"tex2jax_ignore\"><div class=\"entities\" style=\"line-height: 2.5; direction: ltr\">which genre of album is \n<mark class=\"entity\" style=\"background: #ddd; padding: 0.45em 0.6em; margin: 0 0.25em; line-height: 1; border-radius: 0.35em;\">\n    harder faster\n    <span style=\"font-size: 0.8em; font-weight: bold; line-height: 1; border-radius: 0.35em; vertical-align: middle; margin-left: 0.5rem\">SimpleQuestions</span>\n</mark>\n</div></span>"
     },
     "metadata": {},
     "output_type": "display_data"
    }
   ],
   "source": [
    "question = \"which genre of album is harder faster\"\n",
    "doc = NER(question) # input sample text\n",
    "print(doc.ents[0])\n",
    "spacy.displacy.render(doc, style=\"ent\", jupyter=True) # display in Jupyter Notebook/Colab"
   ],
   "metadata": {
    "pycharm": {
     "name": "#%%\n"
    },
    "id": "HjuJQzzCdabv"
   }
  },
  {
   "cell_type": "code",
   "execution_count": null,
   "outputs": [],
   "source": [
    "#####################\n",
    "## Display Metrics ##\n",
    "#####################\n",
    "from oneHop_QA.metrics import test_pipe,mask_doc,NER_metrics\n",
    "predict_cats = test_pipe(question,NER,CATS)\n",
    "print('relation prediction:',predict_cats)"
   ],
   "metadata": {
    "pycharm": {
     "name": "#%%\n"
    },
    "id": "DmuprNsJdabw"
   }
  },
  {
   "cell_type": "code",
   "execution_count": null,
   "outputs": [],
   "source": [
    "c = Config_path()\n",
    "test = pd.read_csv(c.test_combination_path)\n",
    "test_q = test['question'].values\n",
    "test_ents = test['entity'].values\n",
    "precision, recall, f1= NER_metrics(test_q[0:1000],test_ents[0:1000],NER)\n",
    "print('Named Entity Metrics',precision, recall, f1)"
   ],
   "metadata": {
    "pycharm": {
     "name": "#%%\n"
    },
    "id": "r7M9wbB_dabx"
   }
  },
  {
   "cell_type": "code",
   "execution_count": null,
   "outputs": [],
   "source": [
    "from sklearn.metrics import f1_score\n",
    "\n",
    "test_q_space = test['q_space'].values\n",
    "test_r = test['relationship'].values\n",
    "test_r = [i.rsplit('/', 2)[0:-2] for i in test_r]\n",
    "\n",
    "redict_r = []\n",
    "for i in test_q_space[0:1000]:\n",
    "  doc_cats = CATS(i)\n",
    "  pedict_relation = max(doc_cats.cats, key=doc_cats.cats.get)\n",
    "  redict_r.append(pedict_relation)"
   ],
   "metadata": {
    "pycharm": {
     "name": "#%%\n"
    },
    "id": "j-oRDdoadabz"
   }
  },
  {
   "cell_type": "code",
   "execution_count": null,
   "outputs": [],
   "source": [
    "f1_CATS = f1_score(test_r[0:1000], redict_r, average='weighted')\n",
    "print('relation prediction f1 score:',f1_CATS)"
   ],
   "metadata": {
    "pycharm": {
     "name": "#%%\n"
    },
    "id": "Vl0j7dF9dab1"
   }
  }
 ],
 "metadata": {
  "kernelspec": {
   "display_name": "Python 3",
   "language": "python",
   "name": "python3"
  },
  "language_info": {
   "codemirror_mode": {
    "name": "ipython",
    "version": 2
   },
   "file_extension": ".py",
   "mimetype": "text/x-python",
   "name": "python",
   "nbconvert_exporter": "python",
   "pygments_lexer": "ipython2",
   "version": "2.7.6"
  },
  "colab": {
   "name": "test_oneHop.ipynb",
   "provenance": [],
   "collapsed_sections": []
  }
 },
 "nbformat": 4,
 "nbformat_minor": 0
}