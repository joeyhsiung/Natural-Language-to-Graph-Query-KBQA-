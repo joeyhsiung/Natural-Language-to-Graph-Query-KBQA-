{
 "cells": [
  {
   "cell_type": "code",
   "execution_count": 13,
   "outputs": [
    {
     "name": "stdout",
     "output_type": "stream",
     "text": [
      "[+] Auto-filled config with all values\n",
      "[+] Saved config\n",
      "params\\ner_roberta_config.cfg\n",
      "You can now add your data and train your pipeline:\n",
      "python -m spacy train ner_roberta_config.cfg --paths.train ./train.spacy --paths.dev ./dev.spacy\n"
     ]
    }
   ],
   "source": [
    "import spacy\n",
    "import pandas as pd\n",
    "import os\n",
    "from params.configures import Config_path, Config_output_path"
   ],
   "metadata": {
    "collapsed": false,
    "pycharm": {
     "name": "#%%\n"
    }
   }
  },
  {
   "cell_type": "code",
   "execution_count": null,
   "outputs": [],
   "source": [
    "## locate parent directory\n",
    "# It suggest to train models on Google Colab GPU (connect to your own google drive)\n",
    "config = Config_path()\n",
    "os.chdir(config.parent_path)"
   ],
   "metadata": {
    "collapsed": false,
    "pycharm": {
     "name": "#%%\n"
    }
   }
  },
  {
   "cell_type": "code",
   "execution_count": null,
   "outputs": [],
   "source": [
    "##############################\n",
    "## Named-Entity Recognition ##\n",
    "##############################\n",
    "## initialize roberta-base model config for NER\n",
    "!python -m spacy init fill-config ./params/NER_RoBERTa_config.cfg ./params/ner_roberta_configures.cfg"
   ],
   "metadata": {
    "collapsed": false,
    "pycharm": {
     "name": "#%%\n"
    }
   }
  },
  {
   "cell_type": "code",
   "source": [
    "## training RoBERTa-base model from spacy\n",
    "!python -m spacy train ./params/config.cfg --output ./oneHop_QA/ner_output --paths.train ./data/train.spacy --paths.dev ./data/dev.spacy --gpu-id 0"
   ],
   "metadata": {
    "collapsed": false,
    "pycharm": {
     "name": "#%%\n"
    }
   },
   "execution_count": null,
   "outputs": []
  },
  {
   "cell_type": "code",
   "execution_count": null,
   "outputs": [],
   "source": [
    "## Load saved model\n",
    "nlp1 = spacy.load(\"./oneHop_QA/ner_output/model-best\") #load the best model"
   ],
   "metadata": {
    "collapsed": false,
    "pycharm": {
     "name": "#%%\n"
    }
   }
  },
  {
   "cell_type": "code",
   "execution_count": null,
   "outputs": [],
   "source": [
    "## Test and visualize its outcome\n",
    "doc = nlp1(\"what's the name of an environmental disaster in italy\") # input sample text\n",
    "spacy.displacy.render(doc, style=\"ent\", jupyter=True) # display in Jupyter Notebook/Colab"
   ],
   "metadata": {
    "collapsed": false,
    "pycharm": {
     "name": "#%%\n"
    }
   }
  },
  {
   "cell_type": "code",
   "execution_count": null,
   "outputs": [],
   "source": [
    "#########################\n",
    "## Relation Prediction ##\n",
    "#########################\n",
    "## initialize roberta-base model config for classification\n",
    "!python -m spacy init fill-config ./params/base_config_cat.cfg ./params/config_cat.cfg"
   ],
   "metadata": {
    "collapsed": false,
    "pycharm": {
     "name": "#%%\n"
    }
   }
  },
  {
   "cell_type": "code",
   "execution_count": null,
   "outputs": [],
   "source": [
    "## training RoBERTa-base model from spacy\n",
    "!python -m spacy train ./params/config_cat.cfg --output ./oneHop_QA/cat_output_train-train_268_0719 --paths.train ./data/train_cat_268.spacy --paths.dev ./data/train_cat_268.spacy --gpu-id 0"
   ],
   "metadata": {
    "collapsed": false,
    "pycharm": {
     "name": "#%%\n"
    }
   }
  }
 ],
 "metadata": {
  "kernelspec": {
   "display_name": "Python 3",
   "language": "python",
   "name": "python3"
  },
  "language_info": {
   "codemirror_mode": {
    "name": "ipython",
    "version": 2
   },
   "file_extension": ".py",
   "mimetype": "text/x-python",
   "name": "python",
   "nbconvert_exporter": "python",
   "pygments_lexer": "ipython2",
   "version": "2.7.6"
  }
 },
 "nbformat": 4,
 "nbformat_minor": 0
}